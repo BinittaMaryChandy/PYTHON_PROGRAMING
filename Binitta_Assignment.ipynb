{
 "cells": [
  {
   "cell_type": "markdown",
   "id": "89f7e5d7",
   "metadata": {},
   "source": [
    "Write a Python Program to accept the details of a student like name, roll number \n",
    "and mark and display it.\n",
    "Sample input: Enter the name: Anisha\n",
    "Enter the roll number: 21\n",
    "Enter the mark: 78\n",
    "Sample output: \n",
    "Name: Anisha\n",
    "Roll No: 21\n",
    "Mark: 78\n"
   ]
  },
  {
   "cell_type": "code",
   "execution_count": 6,
   "id": "4b4df1e6",
   "metadata": {},
   "outputs": [
    {
     "name": "stdout",
     "output_type": "stream",
     "text": [
      "Enter the nameAnisha\n",
      "Enter the roll number21\n",
      "Enter the mark78\n",
      "Name: Anisha\n",
      "Roll No: 21\n",
      "Mark: 78\n"
     ]
    }
   ],
   "source": [
    "student={}\n",
    "\n",
    "student.update({\"name\" : input(\"Enter the name: \")})\n",
    "\n",
    "student.update({\"roll_number\" : int(input(\"Enter the roll number: \"))})\n",
    "\n",
    "\n",
    "student.update({\"mark\" : int(input(\"Enter the mark: \"))})\n",
    "\n",
    "print('Name:', student[\"name\"])\n",
    "print('Roll No:', student[\"roll_number\"])\n",
    "print('Mark:', student[\"mark\"])"
   ]
  },
  {
   "cell_type": "markdown",
   "id": "80c7838b",
   "metadata": {},
   "source": [
    "Write a Python program to convert temperatures to and from Celsius \n",
    "Fahrenheit. [Formula: c/5=f-32/9 where c=temperature in Celsius and f= \n",
    "temperature in Fahrenheit.] Sample input: Temperature in Fahrenheit =41 \n",
    "Sample output: Temperature in Celsius =5"
   ]
  },
  {
   "cell_type": "code",
   "execution_count": 15,
   "id": "4261fbd7",
   "metadata": {},
   "outputs": [
    {
     "name": "stdout",
     "output_type": "stream",
     "text": [
      "Enter the temperature in Fahrenheit: 41\n",
      "Temperature in Celsius = 5\n"
     ]
    }
   ],
   "source": [
    "print(\"Temperature in Celsius =\",int((((float(input(\"Enter the temperature in Fahrenheit: \"))-32)*5)/9)))"
   ]
  },
  {
   "cell_type": "markdown",
   "id": "7721ba4f",
   "metadata": {},
   "source": [
    "Write a Python program to accept two numbers from the user and display its product."
   ]
  },
  {
   "cell_type": "code",
   "execution_count": 22,
   "id": "d7b342b2",
   "metadata": {},
   "outputs": [
    {
     "name": "stdout",
     "output_type": "stream",
     "text": [
      "Enter first number: 15\n",
      "Enter second number : 10\n",
      "The product of two numbers is  150\n"
     ]
    }
   ],
   "source": [
    "a=int(input(\"Enter first number: \"))\n",
    "b=int(input(\"Enter second number : \"))\n",
    "print(\"The product of two numbers is \", a*b)"
   ]
  },
  {
   "cell_type": "markdown",
   "id": "a9c4439c",
   "metadata": {},
   "source": [
    "Write a Python program to accept a string “Learn Python by Developing a Website” and display the string like “Learn**Python** by Developing a **Website**”"
   ]
  },
  {
   "cell_type": "code",
   "execution_count": 7,
   "id": "e72aa189",
   "metadata": {},
   "outputs": [
    {
     "name": "stdout",
     "output_type": "stream",
     "text": [
      "Enter the string: Learn Python by Developing a Website\n",
      "The modified string is  Learn **Python** by Developing a **Website**\n"
     ]
    }
   ],
   "source": [
    "inputStr=input(\"Enter the string: \")\n",
    "\n",
    "inputStr=inputStr.replace(\"Python\", \"**Python**\")\n",
    "inputStr=inputStr.replace(\"Website\", \"**Website**\")\n",
    "\n",
    "print('The modified string is ',inputStr)"
   ]
  },
  {
   "cell_type": "markdown",
   "id": "3923a094",
   "metadata": {},
   "source": [
    " Write a Python program to accept the radius of a circle and display its area."
   ]
  },
  {
   "cell_type": "code",
   "execution_count": 1,
   "id": "5ebc37ca",
   "metadata": {},
   "outputs": [
    {
     "name": "stdout",
     "output_type": "stream",
     "text": [
      "enter the radius of circle :10\n",
      "The area of the circle is : 314.0\n"
     ]
    }
   ],
   "source": [
    "radius=float(input('enter the radius of circle :'))\n",
    "print('The area of the circle is :', (3.14*(radius**2)))\n"
   ]
  },
  {
   "cell_type": "markdown",
   "id": "49a16e77",
   "metadata": {},
   "source": [
    "Write a program to rename a key city to a location in the following dictionary.\n",
    "sample_dict = { \"name\": \"John\", \"age\":5, \"salary\": 8000, \"city\": \"New York\"}\n"
   ]
  },
  {
   "cell_type": "code",
   "execution_count": 6,
   "id": "3469605f",
   "metadata": {},
   "outputs": [
    {
     "name": "stdout",
     "output_type": "stream",
     "text": [
      "Dictinory before update :\n",
      "{'name': 'John', 'age': 5, 'salary': 8000, 'city': 'New York'}\n",
      "Dictinory After update :\n",
      "{'name': 'John', 'age': 5, 'salary': 8000, 'location': 'New York'}\n"
     ]
    }
   ],
   "source": [
    "sample_dict = { \"name\": \"John\", \"age\":5, \"salary\": 8000, \"city\": \"New York\"}\n",
    "print('Dictinory Before update :')\n",
    "print(sample_dict)\n",
    "\n",
    "X=sample_dict[\"city\"]\n",
    "\n",
    "del sample_dict[\"city\"]\n",
    "\n",
    "sample_dict.update({\"location\" : X})\n",
    "\n",
    "print('Dictinory After update :')\n",
    "print(sample_dict)"
   ]
  },
  {
   "cell_type": "markdown",
   "id": "767fd449",
   "metadata": {},
   "source": [
    "Write a Python program to change Brad’s salary to 8500 in the following \n",
    "dictionary.\n",
    "sample_dict = {\n",
    "'emp1': {'name': 'John', 'salary': 7500},\n",
    "'emp2': {'name': 'Emma', 'salary': 8000},\n",
    "'emp3': {'name': 'Brad', 'salary': 500}\n",
    "}"
   ]
  },
  {
   "cell_type": "code",
   "execution_count": 9,
   "id": "3934a976",
   "metadata": {},
   "outputs": [
    {
     "name": "stdout",
     "output_type": "stream",
     "text": [
      "Dictinory Before salary modification\n",
      "{'name': 'John', 'age': 5, 'salary': 8000, 'location': 'New York'}\n",
      "Dictinory After salary modification :\n"
     ]
    },
    {
     "data": {
      "text/plain": [
       "{'emp1': {'name': 'John', 'salary': 7500},\n",
       " 'emp2': {'name': 'Emma', 'salary': 8000},\n",
       " 'emp3': {'name': 'Brad', 'salary': 8500}}"
      ]
     },
     "execution_count": 9,
     "metadata": {},
     "output_type": "execute_result"
    }
   ],
   "source": [
    "sample_dict1 = {\n",
    "'emp1': {'name': 'John', 'salary': 7500},\n",
    "'emp2': {'name': 'Emma', 'salary': 8000},\n",
    "'emp3': {'name': 'Brad', 'salary': 500}\n",
    "}\n",
    "print('Dictinory Before salary modification')\n",
    "print(sample_dict)\n",
    "\n",
    "sample_dict1['emp3']['salary']=8500\n",
    "print('Dictinory After salary modification :')\n",
    "sample_dict1"
   ]
  },
  {
   "cell_type": "markdown",
   "id": "17e657a1",
   "metadata": {},
   "source": [
    "Write a program to copy elements 43 and 54 from the following tuple into a \n",
    "new tuple. Given:\n",
    "tuple1 = (10, 20, 43, 54, 56, 68)"
   ]
  },
  {
   "cell_type": "code",
   "execution_count": 13,
   "id": "d1b8a62e",
   "metadata": {},
   "outputs": [
    {
     "name": "stdout",
     "output_type": "stream",
     "text": [
      "The new tuple is :\n"
     ]
    },
    {
     "data": {
      "text/plain": [
       "(43, 54)"
      ]
     },
     "execution_count": 13,
     "metadata": {},
     "output_type": "execute_result"
    }
   ],
   "source": [
    "tuple1 = (10, 20, 43, 54, 56, 68)\n",
    "tuple1\n",
    "\n",
    "new_tuple=tuple1[2:4]\n",
    "\n",
    "print('The new tuple is :')\n",
    "new_tuple"
   ]
  },
  {
   "cell_type": "markdown",
   "id": "96c0411a",
   "metadata": {},
   "source": [
    "Counts the number of occurrences of item 50 from a tuple\n",
    "tuple1 = (50, 10, 60, 70, 50,83,567,50,81)"
   ]
  },
  {
   "cell_type": "code",
   "execution_count": 14,
   "id": "a0164389",
   "metadata": {},
   "outputs": [
    {
     "name": "stdout",
     "output_type": "stream",
     "text": [
      "Occurence of 50 in tuple is  3\n"
     ]
    }
   ],
   "source": [
    "tuple_1 = (50, 10, 60, 70, 50,83,567,50,81)\n",
    "\n",
    "print('Occurence of 50 in tuple is ', tuple_1.count(50))"
   ]
  }
 ],
 "metadata": {
  "kernelspec": {
   "display_name": "Python 3 (ipykernel)",
   "language": "python",
   "name": "python3"
  },
  "language_info": {
   "codemirror_mode": {
    "name": "ipython",
    "version": 3
   },
   "file_extension": ".py",
   "mimetype": "text/x-python",
   "name": "python",
   "nbconvert_exporter": "python",
   "pygments_lexer": "ipython3",
   "version": "3.9.13"
  }
 },
 "nbformat": 4,
 "nbformat_minor": 5
}
