{
 "cells": [
  {
   "cell_type": "markdown",
   "id": "a5064ded",
   "metadata": {},
   "source": [
    "Write a Python function to sum all the numbers in a list. (Create a list and\n",
    "get list elements from user)"
   ]
  },
  {
   "cell_type": "code",
   "execution_count": 5,
   "id": "39d4578b",
   "metadata": {},
   "outputs": [
    {
     "name": "stdout",
     "output_type": "stream",
     "text": [
      "Enter the length : 3\n",
      "Enter the element: 1\n",
      "Enter the element: 2\n",
      "Enter the element: 3\n",
      "Sum of the element in the list :  6\n"
     ]
    }
   ],
   "source": [
    "def add(x):\n",
    "    sum=0\n",
    "    for n in x:\n",
    "        sum=sum+n\n",
    "    return sum\n",
    "\n",
    "input_list=[]\n",
    "list_len=int(input(\"Enter the length : \"))\n",
    "i=0\n",
    "while i<list_len:\n",
    "    input_list.append(int(input(\"Enter the element: \")))\n",
    "    i=i+1\n",
    "print(\"Sum of the element in the list : \", add(input_list))\n",
    "    "
   ]
  },
  {
   "cell_type": "markdown",
   "id": "c4a3149c",
   "metadata": {},
   "source": [
    "Write a Python function that checks whether a passed string is\n",
    "palindrome or not.\n"
   ]
  },
  {
   "cell_type": "code",
   "execution_count": 14,
   "id": "f46df1c4",
   "metadata": {},
   "outputs": [
    {
     "name": "stdout",
     "output_type": "stream",
     "text": [
      "Enter the string to check : Malayalam\n",
      "Malayalam  is palindrome\n"
     ]
    }
   ],
   "source": [
    "def isPalindrome(input_str):\n",
    "    return input_str == input_str[::-1] \n",
    "\n",
    "input_str=input(\"Enter the string to check : \")\n",
    "res=isPalindrome(input_str.upper())\n",
    "if res:\n",
    "    print(input_str, \" is palindrome\")\n",
    "else:\n",
    "    print(input_str, \"is not palindrome\")"
   ]
  },
  {
   "cell_type": "markdown",
   "id": "3acabff5",
   "metadata": {},
   "source": [
    "Write a Python recursive function to find the Fibonacci series. Get the limit\n",
    "from the user"
   ]
  },
  {
   "cell_type": "code",
   "execution_count": 15,
   "id": "571c652f",
   "metadata": {},
   "outputs": [
    {
     "name": "stdout",
     "output_type": "stream",
     "text": [
      "enter the limit: 10\n",
      "Fibonacci sequence:\n",
      "0\n",
      "1\n",
      "1\n",
      "2\n",
      "3\n",
      "5\n",
      "8\n",
      "13\n",
      "21\n",
      "34\n"
     ]
    }
   ],
   "source": [
    "def recur_fibo(n):\n",
    "   if n <= 1:\n",
    "       return n\n",
    "   else:\n",
    "       return(recur_fibo(n-1) + recur_fibo(n-2))\n",
    "\n",
    "nterms = int(input(\"enter the limit: \"))\n",
    "if nterms <= 0:\n",
    "   print(\"Plese enter a positive integer\")\n",
    "else:\n",
    "   print(\"Fibonacci sequence:\")\n",
    "   for i in range(nterms):\n",
    "       print(recur_fibo(i))"
   ]
  },
  {
   "cell_type": "markdown",
   "id": "84b0b239",
   "metadata": {},
   "source": [
    "Write a Python recursive function to print the multiplication table of\n",
    "given number"
   ]
  },
  {
   "cell_type": "code",
   "execution_count": 16,
   "id": "08314c85",
   "metadata": {},
   "outputs": [
    {
     "name": "stdout",
     "output_type": "stream",
     "text": [
      "enter the number : 10\n",
      "10 * 1 = 10\n",
      "10 * 2 = 20\n",
      "10 * 3 = 30\n",
      "10 * 4 = 40\n",
      "10 * 5 = 50\n",
      "10 * 6 = 60\n",
      "10 * 7 = 70\n",
      "10 * 8 = 80\n",
      "10 * 9 = 90\n",
      "10 * 10 = 100\n"
     ]
    }
   ],
   "source": [
    "def multitable(n, i):\n",
    "    if(i>10):\n",
    "        return\n",
    "    print(n, \"*\", i, \"=\", n*i)\n",
    "    return multitable(n, i+1)\n",
    "\n",
    "multitable(int(input(\"enter the number : \")), 1)"
   ]
  },
  {
   "cell_type": "markdown",
   "id": "7201d4d2",
   "metadata": {},
   "source": [
    "Define a function which counts vowels and consonant in a word."
   ]
  },
  {
   "cell_type": "code",
   "execution_count": 26,
   "id": "1095c9fd",
   "metadata": {},
   "outputs": [
    {
     "name": "stdout",
     "output_type": "stream",
     "text": [
      "Enter the string: meet\n",
      "No of Consents  2 and No of vowels  2\n"
     ]
    }
   ],
   "source": [
    "def countVowelsnConsants(input_str):\n",
    "    n_vowels=0;\n",
    "    n_consants=0;\n",
    "    i=0;\n",
    "    while i<len(input_str):\n",
    "        if input_str[i]=='A':\n",
    "            n_vowels= n_vowels+1\n",
    "        elif input_str[i]=='E':\n",
    "            n_vowels= n_vowels+1\n",
    "        elif input_str[i]=='I':\n",
    "            n_vowels= n_vowels+1\n",
    "        elif input_str[i]=='O':\n",
    "            n_vowels= n_vowels+1\n",
    "        elif input_str[i]=='U':\n",
    "            n_vowels= n_vowels+1\n",
    "        else:\n",
    "            n_consants=n_consants+1\n",
    "        i=i+1\n",
    "    print(\"No of Consents \",n_consants, \"and No of vowels \", n_vowels)\n",
    "   \n",
    "input_str=input(\"Enter the string: \")   \n",
    "countVowelsnConsants(input_str.upper())"
   ]
  },
  {
   "cell_type": "markdown",
   "id": "f872e30d",
   "metadata": {},
   "source": [
    "Define a function that accepts lowercase words and returns uppercase\n",
    "words.\n"
   ]
  },
  {
   "cell_type": "code",
   "execution_count": 28,
   "id": "931299eb",
   "metadata": {},
   "outputs": [
    {
     "name": "stdout",
     "output_type": "stream",
     "text": [
      "Enter the string : malayalam is my lang\n",
      "The uppercase of the string is MALAYALAM IS MY LANG\n"
     ]
    }
   ],
   "source": [
    "def str_to_Upper(input_str):\n",
    "    return input_str.upper()\n",
    "\n",
    "print(\"The uppercase of the string is\", str_to_Upper(input(\"Enter the string : \")))"
   ]
  },
  {
   "cell_type": "markdown",
   "id": "1f39cad4",
   "metadata": {},
   "source": [
    "Write a Python program to remove ‘None’ values from a given list using\n",
    "the lambda function.\n",
    "Given input = [12, 0, None, 23, None, -55, 234, 89, None, 0, 6, -12]\n",
    "Expected output = [12, 0, 23, -55, 234, 89, 0, 6, -12]\n"
   ]
  },
  {
   "cell_type": "code",
   "execution_count": 5,
   "id": "d8006f1f",
   "metadata": {},
   "outputs": [
    {
     "name": "stdout",
     "output_type": "stream",
     "text": [
      "Original list:\n",
      "[12, 0, None, 23, None, -55, 234, 89, None, 0, 6, -12]\n",
      "\n",
      "Remove None value from the said list:\n",
      "[12, 0, 23, -55, 234, 89, 0, 6, -12]\n"
     ]
    }
   ],
   "source": [
    "def remove_none(nums):\n",
    "    result = filter(lambda v: v is not None, nums)\n",
    "    return list(result)\n",
    "\n",
    "nums = [12, 0, None, 23, None, -55, 234, 89, None, 0, 6, -12]\n",
    "print(\"Original list:\")\n",
    "print(nums)\n",
    "print(\"\\nRemove None value from the said list:\")\n",
    "print(remove_none(nums))"
   ]
  },
  {
   "cell_type": "code",
   "execution_count": null,
   "id": "b85d40ac",
   "metadata": {},
   "outputs": [],
   "source": []
  }
 ],
 "metadata": {
  "kernelspec": {
   "display_name": "Python 3 (ipykernel)",
   "language": "python",
   "name": "python3"
  },
  "language_info": {
   "codemirror_mode": {
    "name": "ipython",
    "version": 3
   },
   "file_extension": ".py",
   "mimetype": "text/x-python",
   "name": "python",
   "nbconvert_exporter": "python",
   "pygments_lexer": "ipython3",
   "version": "3.9.13"
  }
 },
 "nbformat": 4,
 "nbformat_minor": 5
}
