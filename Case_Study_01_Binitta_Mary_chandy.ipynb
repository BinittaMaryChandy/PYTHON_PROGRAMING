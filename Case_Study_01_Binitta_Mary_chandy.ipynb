{
 "cells": [
  {
   "cell_type": "markdown",
   "id": "612b529f",
   "metadata": {},
   "source": [
    "A school has following rules for grading system:\n",
    "a. Below 25 - F\n",
    "b. 25 to 45 - E\n",
    "c. 45 to 50 - D\n",
    "d. 50 to 60 - C\n",
    "e. 60 to 80 - B\n",
    "f. Above 80 - A\n",
    "Ask user to enter marks and print the corresponding grade"
   ]
  },
  {
   "cell_type": "code",
   "execution_count": 4,
   "id": "cc0bb275",
   "metadata": {},
   "outputs": [
    {
     "name": "stdout",
     "output_type": "stream",
     "text": [
      "Enter the marks scored: 25\n",
      "You got E grade\n"
     ]
    }
   ],
   "source": [
    "mark_scored= int(input(\"Enter the marks scored: \"));\n",
    "\n",
    "if (mark_scored>80) :\n",
    "    print(\"You got A grade\")\n",
    "elif(mark_scored>=60):\n",
    "    print(\"You got B grade\")\n",
    "elif(mark_scored>=50):\n",
    "    print(\"You got C grade\")\n",
    "elif(mark_scored>=45):\n",
    "    print(\"You got D grade\")\n",
    "elif(mark_scored>=25):\n",
    "    print(\"You got E grade\")\n",
    "else:\n",
    "    print(\"You got F grade\")\n",
    "    "
   ]
  },
  {
   "cell_type": "markdown",
   "id": "5bc1ba00",
   "metadata": {},
   "source": [
    "You have a list of names. Create a new list which contains only the names \n",
    "with non-repeating characters. \n",
    "Sample input = [‘John’,’Peter’,’Meera’,’Mini’,’Krishna’]\n",
    "Sample output = [‘John’,Krishna"
   ]
  },
  {
   "cell_type": "code",
   "execution_count": 4,
   "id": "eac23c09",
   "metadata": {},
   "outputs": [
    {
     "name": "stdout",
     "output_type": "stream",
     "text": [
      "The input list is \n",
      "['John', 'Peter', 'Meera', 'Mini', 'Krishna']\n",
      "The new list is \n",
      "['John', 'Krishna']\n"
     ]
    }
   ],
   "source": [
    "input_list=['John','Peter','Meera','Mini','Krishna']\n",
    "print('The input list is ')\n",
    "print(input_list)\n",
    "\n",
    "new_list=[]\n",
    "\n",
    "for x in input_list :\n",
    "    multi_occurance=False\n",
    "    str_to_check=list(x)\n",
    "    for c in x:\n",
    "         if str_to_check.count(c)>1 :\n",
    "                multi_occurance=True\n",
    "    if  not multi_occurance:\n",
    "        new_list.append(x)\n",
    "        \n",
    "print('The new list is ')\n",
    "print(new_list)              \n",
    "\n"
   ]
  },
  {
   "cell_type": "markdown",
   "id": "988e1a72",
   "metadata": {},
   "source": [
    "Take values of length and breadth of a rectangle from user and check if it \n",
    "is square or not.\n"
   ]
  },
  {
   "cell_type": "code",
   "execution_count": 8,
   "id": "dc8c8e80",
   "metadata": {},
   "outputs": [
    {
     "name": "stdout",
     "output_type": "stream",
     "text": [
      "Enter the length : 11\n",
      "Enter the breadth : 11\n",
      "It's a square\n"
     ]
    }
   ],
   "source": [
    "length=int(input(\"Enter the length : \"))\n",
    "breadth=int(input(\"Enter the breadth : \"))\n",
    "\n",
    "if (length==breadth):\n",
    "    print(\"It's a square\")\n",
    "else:\n",
    "    print(\"It's a rectangle\")\n"
   ]
  },
  {
   "cell_type": "markdown",
   "id": "5a6d7883",
   "metadata": {},
   "source": [
    "A student will not be allowed to sit in exam if his/her attendance is less \n",
    "than 75%. Take following input from user Number of classes held \n",
    "Number of classes attended. And print percentage of class attended Is \n",
    "student is allowed to sit in exam or not"
   ]
  },
  {
   "cell_type": "code",
   "execution_count": 11,
   "id": "c8a55dc9",
   "metadata": {},
   "outputs": [
    {
     "name": "stdout",
     "output_type": "stream",
     "text": [
      "Enter the number of classes conducted : 50\n",
      "Enter the number of classes attended : 25\n",
      "The attendence percentage is 50.0. You are not eligible to write exam\n"
     ]
    }
   ],
   "source": [
    "no_of_classes=int(input(\"Enter the number of classes conducted : \"))\n",
    "no_of_classes_attended=int(input(\"Enter the number of classes attended : \"))\n",
    "attendence_percentage=((no_of_classes_attended/no_of_classes)*100)\n",
    "\n",
    "out_txt=\"The attendence percentage is {0}. You are {1} to write exam\"\n",
    "\n",
    "if attendence_percentage<75 :\n",
    "    eligibality_txt= 'not eligible'\n",
    "else:\n",
    "    eligibality_txt= 'eligible'\n",
    "    \n",
    "print(out_txt.format(attendence_percentage,eligibality_txt ))"
   ]
  },
  {
   "cell_type": "markdown",
   "id": "1cc2a0a1",
   "metadata": {},
   "source": [
    "Create a list by taking length of the list and elements of the list from user. \n",
    "Then find the sum of the elements of the list. Also create a new called even \n",
    "list which contains only even numbers from first list and odd list which \n",
    "contains odd numbers from the list. \n",
    "Sample input:\n",
    "Length of the list = 5\n",
    "List1 = [2,6,3,1,5]\n",
    "Sum = 17\n",
    "Even_list=[2,6]\n",
    "Odd_list=[3,1,5"
   ]
  },
  {
   "cell_type": "code",
   "execution_count": 19,
   "id": "56b07d85",
   "metadata": {},
   "outputs": [
    {
     "name": "stdout",
     "output_type": "stream",
     "text": [
      "Enter the length of the list : 5\n",
      "Enter the element :2\n",
      "Enter the element :6\n",
      "Enter the element :3\n",
      "Enter the element :1\n",
      "Enter the element :5\n",
      "Sum of the elements in the list is  17\n",
      "The even_list is \n",
      "[2, 6]\n",
      "The odd_list is \n",
      "[3, 1, 5]\n"
     ]
    }
   ],
   "source": [
    "list_len=int(input(\"Enter the length of the list : \"))\n",
    "in_list=[]\n",
    "even_list=[]\n",
    "odd_list=[]\n",
    "i=0\n",
    "while i <list_len:\n",
    "    elemnt=int(input(\"Enter the element :\"))\n",
    "    in_list.append(elemnt)\n",
    "    i=i+1\n",
    "sum=0\n",
    "for x in in_list:\n",
    "    sum=sum+x\n",
    "    if ((x%2)==0):\n",
    "        even_list.append(x)\n",
    "    else:\n",
    "        odd_list.append(x)\n",
    "\n",
    "print(\"Sum of the elements in the list is \", sum)\n",
    "print(\"The even_list is \")\n",
    "print(even_list)\n",
    "print(\"The odd_list is \")\n",
    "print(odd_list)"
   ]
  },
  {
   "cell_type": "markdown",
   "id": "ceea6029",
   "metadata": {},
   "source": [
    " Create a sample chatbot for an ecommerce website."
   ]
  },
  {
   "cell_type": "code",
   "execution_count": 23,
   "id": "3c139bdc",
   "metadata": {},
   "outputs": [
    {
     "name": "stdout",
     "output_type": "stream",
     "text": [
      "Hello welcome to xxx website.Your good name pleaseBinitta\n",
      "Good day  Binitta\n",
      "Enter the options you want?1. Order status 2. Cancel order 3. return 4. Others3\n",
      "Enter the order to be returned : klhjkbkj\n",
      "The return of the order  klhjkbkj  is initiated\n",
      "Thank you. Enjoy your day  Binitta\n"
     ]
    }
   ],
   "source": [
    "name=input(\"Hello welcome to xxx website.Your good name please\")\n",
    "print(\"Good day \",name)\n",
    "option1=int(input(\"Enter the options you want?1. Order status 2. Cancel order 3. return 4. Others\"))\n",
    "\n",
    "if option1 ==1:\n",
    "    order_no=input('Enter the order to check the status : ')\n",
    "    print(\"The status of the order \", order_no, \" is delivered\")\n",
    "elif option1==2:\n",
    "    order_no=input('Enter the order to be canceled : ')\n",
    "    print(\"The  order \", order_no, \" is canceled\") \n",
    "elif option1==3:\n",
    "    order_no=input('Enter the order to be returned : ')\n",
    "    print(\"The return of the order \", order_no, \" is initiated\") \n",
    "else:\n",
    "    txt=input('Enter the query you have : ')\n",
    "    print(\"We will get back to you on the query\") \n",
    "\n",
    "print(\"Thank you. Enjoy your day \", name)\n"
   ]
  },
  {
   "cell_type": "markdown",
   "id": "a697a715",
   "metadata": {},
   "source": [
    "Write a program to find the roots of a quadratic equation. Get the co\u0002efficients of quadratic equation ax^2+bx+c and display whether the roots \n",
    "are real and equal or real and distinct or roots are imaginary. You have to \n",
    "find the roots and display it as well. "
   ]
  },
  {
   "cell_type": "code",
   "execution_count": 15,
   "id": "8e8f58ae",
   "metadata": {},
   "outputs": [
    {
     "name": "stdout",
     "output_type": "stream",
     "text": [
      "Quadratic function : (a * x^2) + b*x + c\n",
      "a: -1\n",
      "b: -7\n",
      "c: -12\n",
      "The root is real and distinct.There are 2 roots: -4.000000 and -3.000000\n"
     ]
    }
   ],
   "source": [
    "from math import sqrt\n",
    "\n",
    "print(\"Quadratic function : (a * x^2) + b*x + c\")\n",
    "a = float(input(\"a: \"))\n",
    "b = float(input(\"b: \"))\n",
    "c = float(input(\"c: \"))\n",
    "\n",
    "r = b**2 - 4*a*c\n",
    "\n",
    "if r > 0:\n",
    "    x1 = (((-b) + sqrt(r))/(2*a))     \n",
    "    x2 = (((-b) - sqrt(r))/(2*a))\n",
    "    print(\"The root is real and distinct.There are 2 roots: %f and %f\" % (x1, x2))\n",
    "elif r == 0:\n",
    "    x = (-b) / 2*a\n",
    "    print(\"The root is real and equal.The root is\", x)\n",
    "else:\n",
    "    print(\"The roots are imaginary\")"
   ]
  },
  {
   "cell_type": "markdown",
   "id": "a7021f91",
   "metadata": {},
   "source": [
    "Given a range of first 10 numbers, write a Python program to iterate from \n",
    "start number to the end number and print the sum of the current number \n",
    "and previous number. \n",
    "Sample input: 1….10 \n",
    "Sample output: Current Number 1 Previous Number 0 Sum: 1\n",
    "Current Number 2 Previous Number 1 Sum: 3 \n",
    "Current Number 3 Previous Number 2 Sum: 5… \n",
    "…….\n",
    "Current Number 10 Previous Number 9 Sum: 19\n"
   ]
  },
  {
   "cell_type": "code",
   "execution_count": 27,
   "id": "7bb717a8",
   "metadata": {},
   "outputs": [
    {
     "name": "stdout",
     "output_type": "stream",
     "text": [
      "Enter the start of the range1\n",
      "Enter the end of the range10\n",
      "Current Number :  1 previous Number :  0 Sum :  1\n",
      "Current Number :  2 previous Number :  1 Sum :  3\n",
      "Current Number :  3 previous Number :  2 Sum :  5\n",
      "Current Number :  4 previous Number :  3 Sum :  7\n",
      "Current Number :  5 previous Number :  4 Sum :  9\n",
      "Current Number :  6 previous Number :  5 Sum :  11\n",
      "Current Number :  7 previous Number :  6 Sum :  13\n",
      "Current Number :  8 previous Number :  7 Sum :  15\n",
      "Current Number :  9 previous Number :  8 Sum :  17\n"
     ]
    }
   ],
   "source": [
    "start=int(input('Enter the start of the range'))\n",
    "end=int(input('Enter the end of the range'))\n",
    "num_range= range(start,end)\n",
    "\n",
    "for n in num_range:\n",
    "    print('Current Number : ', n, 'previous Number : ', n-1, 'Sum : ' ,(n+(n-1)))"
   ]
  },
  {
   "cell_type": "markdown",
   "id": "692db417",
   "metadata": {},
   "source": [
    "Write a Python program to print Fibonacci series in a given range. Get \n",
    "the range from user and print prime numbers in that range"
   ]
  },
  {
   "cell_type": "code",
   "execution_count": 10,
   "id": "cccfb747",
   "metadata": {},
   "outputs": [
    {
     "name": "stdout",
     "output_type": "stream",
     "text": [
      "Enter the range of the fibonacci series5\n",
      "The fibnocci series :\n",
      "0\n",
      "1\n",
      "1\n",
      "2\n",
      "3\n",
      "Enter the start of the range1\n",
      "Enter the end of the range10\n",
      "1\n",
      "2\n",
      "3\n",
      "5\n",
      "7\n"
     ]
    }
   ],
   "source": [
    "range1=int(input('Enter the range of the fibonacci series'))\n",
    "\n",
    "prev=0\n",
    "curr=1\n",
    "i=0;\n",
    "print(\"The fibnocci series :\")\n",
    "while i<range1:\n",
    "    print(prev)\n",
    "    nex=curr+prev\n",
    "    prev=curr\n",
    "    curr=nex\n",
    "    i=i+1\n",
    "\n",
    "start=int(input('Enter the start of the range'))\n",
    "end=int(input('Enter the end of the range'))\n",
    "num_range1= range(start,end)\n",
    "for n in num_range1:\n",
    "    is_not_prime=False\n",
    "    if (n==1):\n",
    "        is_not_prime=False\n",
    "    elif(n==0):\n",
    "        is_not_prime=False\n",
    "    else :\n",
    "        num_range2= range(2,n)\n",
    "        for i in num_range2 :\n",
    "            if ((n%i)==0) :\n",
    "                is_not_prime=True\n",
    "                break\n",
    "    if not is_not_prime :\n",
    "        print(n)\n"
   ]
  },
  {
   "cell_type": "code",
   "execution_count": null,
   "id": "1586e48b",
   "metadata": {},
   "outputs": [],
   "source": []
  },
  {
   "cell_type": "code",
   "execution_count": null,
   "id": "cdbc936f",
   "metadata": {},
   "outputs": [],
   "source": []
  }
 ],
 "metadata": {
  "kernelspec": {
   "display_name": "Python 3 (ipykernel)",
   "language": "python",
   "name": "python3"
  },
  "language_info": {
   "codemirror_mode": {
    "name": "ipython",
    "version": 3
   },
   "file_extension": ".py",
   "mimetype": "text/x-python",
   "name": "python",
   "nbconvert_exporter": "python",
   "pygments_lexer": "ipython3",
   "version": "3.9.13"
  }
 },
 "nbformat": 4,
 "nbformat_minor": 5
}
